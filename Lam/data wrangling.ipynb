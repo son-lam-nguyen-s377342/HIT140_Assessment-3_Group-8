{
 "cells": [
  {
   "cell_type": "code",
   "execution_count": 2,
   "metadata": {},
   "outputs": [],
   "source": [
    "# Import the libraries\n",
    "import pandas as pd\n",
    "import numpy as np"
   ]
  },
  {
   "cell_type": "code",
   "execution_count": 3,
   "metadata": {},
   "outputs": [],
   "source": [
    "# Read dataset into a DataFrame\n",
    "df1 = pd.read_csv(\"dataset1.csv\")\n",
    "df2 = pd.read_csv(\"dataset2.csv\")\n",
    "df3 = pd.read_csv(\"dataset3.csv\")"
   ]
  },
  {
   "cell_type": "code",
   "execution_count": 4,
   "metadata": {},
   "outputs": [],
   "source": [
    "# Merge datasets on the 'ID' column\n",
    "df = pd.merge(df1, df2, on='ID', how='outer')\n",
    "df = pd.merge(df, df3, on='ID', how='outer')"
   ]
  },
  {
   "cell_type": "code",
   "execution_count": 5,
   "metadata": {},
   "outputs": [
    {
     "name": "stdout",
     "output_type": "stream",
     "text": [
      "<class 'pandas.core.frame.DataFrame'>\n",
      "RangeIndex: 120115 entries, 0 to 120114\n",
      "Data columns (total 26 columns):\n",
      " #   Column    Non-Null Count   Dtype  \n",
      "---  ------    --------------   -----  \n",
      " 0   ID        120115 non-null  int64  \n",
      " 1   gender    120115 non-null  int64  \n",
      " 2   minority  120115 non-null  int64  \n",
      " 3   deprived  120115 non-null  int64  \n",
      " 4   C_we      113359 non-null  float64\n",
      " 5   C_wk      113359 non-null  float64\n",
      " 6   G_we      113359 non-null  float64\n",
      " 7   G_wk      113359 non-null  float64\n",
      " 8   S_we      113359 non-null  float64\n",
      " 9   S_wk      113359 non-null  float64\n",
      " 10  T_we      113359 non-null  float64\n",
      " 11  T_wk      113359 non-null  float64\n",
      " 12  Optm      102580 non-null  float64\n",
      " 13  Usef      102580 non-null  float64\n",
      " 14  Relx      102580 non-null  float64\n",
      " 15  Intp      102580 non-null  float64\n",
      " 16  Engs      102580 non-null  float64\n",
      " 17  Dealpr    102580 non-null  float64\n",
      " 18  Thcklr    102580 non-null  float64\n",
      " 19  Goodme    102580 non-null  float64\n",
      " 20  Clsep     102580 non-null  float64\n",
      " 21  Conf      102580 non-null  float64\n",
      " 22  Mkmind    102580 non-null  float64\n",
      " 23  Loved     102580 non-null  float64\n",
      " 24  Intthg    102580 non-null  float64\n",
      " 25  Cheer     102580 non-null  float64\n",
      "dtypes: float64(22), int64(4)\n",
      "memory usage: 23.8 MB\n"
     ]
    }
   ],
   "source": [
    "# Check if there's any missing values or abnormal data\n",
    "df.info()"
   ]
  },
  {
   "cell_type": "code",
   "execution_count": 6,
   "metadata": {},
   "outputs": [],
   "source": [
    "# Save the merged data to a new CSV file\n",
    "df.to_csv('merged_dataset.csv', index=False)"
   ]
  },
  {
   "cell_type": "code",
   "execution_count": 6,
   "metadata": {},
   "outputs": [
    {
     "name": "stdout",
     "output_type": "stream",
     "text": [
      "NaN Summary:\n",
      "ID              0\n",
      "gender          0\n",
      "minority        0\n",
      "deprived        0\n",
      "C_we         6756\n",
      "C_wk         6756\n",
      "G_we         6756\n",
      "G_wk         6756\n",
      "S_we         6756\n",
      "S_wk         6756\n",
      "T_we         6756\n",
      "T_wk         6756\n",
      "Optm        17535\n",
      "Usef        17535\n",
      "Relx        17535\n",
      "Intp        17535\n",
      "Engs        17535\n",
      "Dealpr      17535\n",
      "Thcklr      17535\n",
      "Goodme      17535\n",
      "Clsep       17535\n",
      "Conf        17535\n",
      "Mkmind      17535\n",
      "Loved       17535\n",
      "Intthg      17535\n",
      "Cheer       17535\n",
      "dtype: int64\n"
     ]
    }
   ],
   "source": [
    "# check for NaN values\n",
    "# summary of NaN values across columns\n",
    "nan_summary = df.isna().sum()\n",
    "print(\"NaN Summary:\")\n",
    "print(nan_summary)"
   ]
  },
  {
   "cell_type": "code",
   "execution_count": 7,
   "metadata": {},
   "outputs": [
    {
     "name": "stdout",
     "output_type": "stream",
     "text": [
      "\n",
      "Rows with some NaN values:\n",
      "             ID  gender  minority  deprived  C_we  C_wk  G_we  G_wk  S_we  \\\n",
      "0       1000001       1         0         0   NaN   NaN   NaN   NaN   NaN   \n",
      "13      1000014       0         1         0   NaN   NaN   NaN   NaN   NaN   \n",
      "19      1000020       1         1         0   1.0   2.0   0.5   0.5   3.0   \n",
      "23      1000024       0         1         1   3.0   2.0   4.0   3.0   4.0   \n",
      "46      1000047       0         0         0   NaN   NaN   NaN   NaN   NaN   \n",
      "...         ...     ...       ...       ...   ...   ...   ...   ...   ...   \n",
      "120087  1120088       1         0         1   0.0   0.0   4.0   1.0   7.0   \n",
      "120090  1120091       0         1         1   NaN   NaN   NaN   NaN   NaN   \n",
      "120091  1120092       1         0         1   2.0   2.0   4.0   2.0   7.0   \n",
      "120105  1120106       1         0         1   NaN   NaN   NaN   NaN   NaN   \n",
      "120109  1120110       0         1         1   NaN   NaN   NaN   NaN   NaN   \n",
      "\n",
      "        S_wk  ...  Engs  Dealpr  Thcklr  Goodme  Clsep  Conf  Mkmind  Loved  \\\n",
      "0        NaN  ...   3.0     4.0     4.0     4.0    3.0   5.0     5.0    5.0   \n",
      "13       NaN  ...   NaN     NaN     NaN     NaN    NaN   NaN     NaN    NaN   \n",
      "19       3.0  ...   NaN     NaN     NaN     NaN    NaN   NaN     NaN    NaN   \n",
      "23       3.0  ...   NaN     NaN     NaN     NaN    NaN   NaN     NaN    NaN   \n",
      "46       NaN  ...   3.0     3.0     3.0     4.0    5.0   3.0     4.0    4.0   \n",
      "...      ...  ...   ...     ...     ...     ...    ...   ...     ...    ...   \n",
      "120087   7.0  ...   NaN     NaN     NaN     NaN    NaN   NaN     NaN    NaN   \n",
      "120090   NaN  ...   NaN     NaN     NaN     NaN    NaN   NaN     NaN    NaN   \n",
      "120091   7.0  ...   NaN     NaN     NaN     NaN    NaN   NaN     NaN    NaN   \n",
      "120105   NaN  ...   4.0     4.0     4.0     3.0    3.0   4.0     5.0    4.0   \n",
      "120109   NaN  ...   NaN     NaN     NaN     NaN    NaN   NaN     NaN    NaN   \n",
      "\n",
      "        Intthg  Cheer  \n",
      "0          4.0    4.0  \n",
      "13         NaN    NaN  \n",
      "19         NaN    NaN  \n",
      "23         NaN    NaN  \n",
      "46         5.0    4.0  \n",
      "...        ...    ...  \n",
      "120087     NaN    NaN  \n",
      "120090     NaN    NaN  \n",
      "120091     NaN    NaN  \n",
      "120105     5.0    3.0  \n",
      "120109     NaN    NaN  \n",
      "\n",
      "[21837 rows x 26 columns]\n"
     ]
    }
   ],
   "source": [
    "# rows with any NaN values\n",
    "nan_rows = df[df.isna().any(axis=1)]\n",
    "print(\"\\nRows with some NaN values:\")\n",
    "print(nan_rows)"
   ]
  },
  {
   "cell_type": "code",
   "execution_count": 8,
   "metadata": {},
   "outputs": [
    {
     "name": "stdout",
     "output_type": "stream",
     "text": [
      "Number of rows with some NaN values (excluding first 4 columns): 21837\n",
      "             ID  gender  minority  deprived  C_we  C_wk  G_we  G_wk  S_we  \\\n",
      "0       1000001       1         0         0   NaN   NaN   NaN   NaN   NaN   \n",
      "13      1000014       0         1         0   NaN   NaN   NaN   NaN   NaN   \n",
      "19      1000020       1         1         0   1.0   2.0   0.5   0.5   3.0   \n",
      "23      1000024       0         1         1   3.0   2.0   4.0   3.0   4.0   \n",
      "46      1000047       0         0         0   NaN   NaN   NaN   NaN   NaN   \n",
      "...         ...     ...       ...       ...   ...   ...   ...   ...   ...   \n",
      "120087  1120088       1         0         1   0.0   0.0   4.0   1.0   7.0   \n",
      "120090  1120091       0         1         1   NaN   NaN   NaN   NaN   NaN   \n",
      "120091  1120092       1         0         1   2.0   2.0   4.0   2.0   7.0   \n",
      "120105  1120106       1         0         1   NaN   NaN   NaN   NaN   NaN   \n",
      "120109  1120110       0         1         1   NaN   NaN   NaN   NaN   NaN   \n",
      "\n",
      "        S_wk  ...  Engs  Dealpr  Thcklr  Goodme  Clsep  Conf  Mkmind  Loved  \\\n",
      "0        NaN  ...   3.0     4.0     4.0     4.0    3.0   5.0     5.0    5.0   \n",
      "13       NaN  ...   NaN     NaN     NaN     NaN    NaN   NaN     NaN    NaN   \n",
      "19       3.0  ...   NaN     NaN     NaN     NaN    NaN   NaN     NaN    NaN   \n",
      "23       3.0  ...   NaN     NaN     NaN     NaN    NaN   NaN     NaN    NaN   \n",
      "46       NaN  ...   3.0     3.0     3.0     4.0    5.0   3.0     4.0    4.0   \n",
      "...      ...  ...   ...     ...     ...     ...    ...   ...     ...    ...   \n",
      "120087   7.0  ...   NaN     NaN     NaN     NaN    NaN   NaN     NaN    NaN   \n",
      "120090   NaN  ...   NaN     NaN     NaN     NaN    NaN   NaN     NaN    NaN   \n",
      "120091   7.0  ...   NaN     NaN     NaN     NaN    NaN   NaN     NaN    NaN   \n",
      "120105   NaN  ...   4.0     4.0     4.0     3.0    3.0   4.0     5.0    4.0   \n",
      "120109   NaN  ...   NaN     NaN     NaN     NaN    NaN   NaN     NaN    NaN   \n",
      "\n",
      "        Intthg  Cheer  \n",
      "0          4.0    4.0  \n",
      "13         NaN    NaN  \n",
      "19         NaN    NaN  \n",
      "23         NaN    NaN  \n",
      "46         5.0    4.0  \n",
      "...        ...    ...  \n",
      "120087     NaN    NaN  \n",
      "120090     NaN    NaN  \n",
      "120091     NaN    NaN  \n",
      "120105     5.0    3.0  \n",
      "120109     NaN    NaN  \n",
      "\n",
      "[21837 rows x 26 columns]\n"
     ]
    }
   ],
   "source": [
    "# Check for rows where some values are NaN, exclude the first 4 columns\n",
    "rows_some_nan = df[df.iloc[:, 4:].isna().any(axis=1)]\n",
    "print(f\"Number of rows with some NaN values (excluding first 4 columns): {len(rows_some_nan)}\")\n",
    "print(rows_some_nan)"
   ]
  },
  {
   "cell_type": "code",
   "execution_count": 9,
   "metadata": {},
   "outputs": [
    {
     "name": "stdout",
     "output_type": "stream",
     "text": [
      "Number of rows with all NaN values (excluding first 4 columns): 2454\n",
      "             ID  gender  minority  deprived  C_we  C_wk  G_we  G_wk  S_we  \\\n",
      "13      1000014       0         1         0   NaN   NaN   NaN   NaN   NaN   \n",
      "87      1000088       0         0         0   NaN   NaN   NaN   NaN   NaN   \n",
      "96      1000097       0         0         0   NaN   NaN   NaN   NaN   NaN   \n",
      "140     1000141       0         1         0   NaN   NaN   NaN   NaN   NaN   \n",
      "165     1000166       0         0         0   NaN   NaN   NaN   NaN   NaN   \n",
      "...         ...     ...       ...       ...   ...   ...   ...   ...   ...   \n",
      "120032  1120033       0         1         0   NaN   NaN   NaN   NaN   NaN   \n",
      "120075  1120076       1         1         0   NaN   NaN   NaN   NaN   NaN   \n",
      "120076  1120077       1         0         0   NaN   NaN   NaN   NaN   NaN   \n",
      "120090  1120091       0         1         1   NaN   NaN   NaN   NaN   NaN   \n",
      "120109  1120110       0         1         1   NaN   NaN   NaN   NaN   NaN   \n",
      "\n",
      "        S_wk  ...  Engs  Dealpr  Thcklr  Goodme  Clsep  Conf  Mkmind  Loved  \\\n",
      "13       NaN  ...   NaN     NaN     NaN     NaN    NaN   NaN     NaN    NaN   \n",
      "87       NaN  ...   NaN     NaN     NaN     NaN    NaN   NaN     NaN    NaN   \n",
      "96       NaN  ...   NaN     NaN     NaN     NaN    NaN   NaN     NaN    NaN   \n",
      "140      NaN  ...   NaN     NaN     NaN     NaN    NaN   NaN     NaN    NaN   \n",
      "165      NaN  ...   NaN     NaN     NaN     NaN    NaN   NaN     NaN    NaN   \n",
      "...      ...  ...   ...     ...     ...     ...    ...   ...     ...    ...   \n",
      "120032   NaN  ...   NaN     NaN     NaN     NaN    NaN   NaN     NaN    NaN   \n",
      "120075   NaN  ...   NaN     NaN     NaN     NaN    NaN   NaN     NaN    NaN   \n",
      "120076   NaN  ...   NaN     NaN     NaN     NaN    NaN   NaN     NaN    NaN   \n",
      "120090   NaN  ...   NaN     NaN     NaN     NaN    NaN   NaN     NaN    NaN   \n",
      "120109   NaN  ...   NaN     NaN     NaN     NaN    NaN   NaN     NaN    NaN   \n",
      "\n",
      "        Intthg  Cheer  \n",
      "13         NaN    NaN  \n",
      "87         NaN    NaN  \n",
      "96         NaN    NaN  \n",
      "140        NaN    NaN  \n",
      "165        NaN    NaN  \n",
      "...        ...    ...  \n",
      "120032     NaN    NaN  \n",
      "120075     NaN    NaN  \n",
      "120076     NaN    NaN  \n",
      "120090     NaN    NaN  \n",
      "120109     NaN    NaN  \n",
      "\n",
      "[2454 rows x 26 columns]\n"
     ]
    }
   ],
   "source": [
    "# check for rows where all values are NaN, exclude the first 4 columns\n",
    "nan_rows = df[df.iloc[:, 4:].isna().all(axis=1)]\n",
    "print(f\"Number of rows with all NaN values (excluding first 4 columns): {len(nan_rows)}\")\n",
    "print(nan_rows)"
   ]
  },
  {
   "cell_type": "markdown",
   "metadata": {},
   "source": [
    "Remove and clean the merged data"
   ]
  },
  {
   "cell_type": "code",
   "execution_count": 10,
   "metadata": {},
   "outputs": [],
   "source": [
    "# Read the CSV file into a DataFrame\n",
    "df = pd.read_csv('merged_dataset.csv')"
   ]
  },
  {
   "cell_type": "code",
   "execution_count": 11,
   "metadata": {},
   "outputs": [],
   "source": [
    "# Define the number of decimal places to round to\n",
    "decimal_places = 2"
   ]
  },
  {
   "cell_type": "code",
   "execution_count": 13,
   "metadata": {},
   "outputs": [],
   "source": [
    "# Impute missing values by filling them with the mean of each column\n",
    "\n",
    "df_filled = df.apply(lambda col: col.fillna(round(col.mean(), decimal_places)), axis=0)\n"
   ]
  },
  {
   "cell_type": "code",
   "execution_count": 14,
   "metadata": {},
   "outputs": [
    {
     "name": "stdout",
     "output_type": "stream",
     "text": [
      "DataFrame after filling NaNs with the mean of each column:\n",
      "             ID  gender  minority  deprived  C_we  C_wk  G_we  G_wk  S_we  \\\n",
      "0       1000001       1         0         0  2.19  1.77  1.74  1.01  3.52   \n",
      "1       1000002       0         1         0  0.50  0.50  0.00  0.00  1.00   \n",
      "2       1000003       0         0         1  1.00  0.50  0.00  0.00  2.00   \n",
      "3       1000004       0         0         1  3.00  1.00  2.00  0.00  3.00   \n",
      "4       1000005       0         0         1  4.00  2.00  0.00  0.00  4.00   \n",
      "...         ...     ...       ...       ...   ...   ...   ...   ...   ...   \n",
      "120110  1120111       1         0         1  7.00  6.00  7.00  6.00  3.00   \n",
      "120111  1120112       1         0         1  3.00  4.00  7.00  7.00  6.00   \n",
      "120112  1120113       1         0         1  2.00  0.00  4.00  2.00  0.00   \n",
      "120113  1120114       1         0         1  4.00  2.00  5.00  3.00  0.50   \n",
      "120114  1120115       1         0         1  0.00  0.00  7.00  6.00  0.00   \n",
      "\n",
      "        S_wk  ...  Engs  Dealpr  Thcklr  Goodme  Clsep  Conf  Mkmind  Loved  \\\n",
      "0       2.91  ...   3.0     4.0     4.0     4.0    3.0   5.0     5.0    5.0   \n",
      "1       0.50  ...   4.0     4.0     5.0     5.0    3.0   4.0     5.0    5.0   \n",
      "2       2.00  ...   4.0     3.0     3.0     2.0    2.0   2.0     5.0    3.0   \n",
      "3       2.00  ...   2.0     4.0     4.0     3.0    4.0   4.0     5.0    4.0   \n",
      "4       3.00  ...   2.0     2.0     2.0     1.0    3.0   1.0     3.0    4.0   \n",
      "...      ...  ...   ...     ...     ...     ...    ...   ...     ...    ...   \n",
      "120110  1.00  ...   4.0     4.0     4.0     4.0    4.0   5.0     5.0    4.0   \n",
      "120111  7.00  ...   1.0     1.0     3.0     2.0    4.0   3.0     2.0    3.0   \n",
      "120112  0.00  ...   4.0     4.0     4.0     4.0    4.0   4.0     4.0    4.0   \n",
      "120113  0.50  ...   1.0     1.0     1.0     1.0    1.0   1.0     1.0    1.0   \n",
      "120114  0.00  ...   1.0     2.0     2.0     3.0    5.0   4.0     5.0    5.0   \n",
      "\n",
      "        Intthg  Cheer  \n",
      "0          4.0    4.0  \n",
      "1          4.0    4.0  \n",
      "2          3.0    3.0  \n",
      "3          4.0    4.0  \n",
      "4          2.0    2.0  \n",
      "...        ...    ...  \n",
      "120110     2.0    4.0  \n",
      "120111     4.0    3.0  \n",
      "120112     4.0    4.0  \n",
      "120113     1.0    1.0  \n",
      "120114     5.0    4.0  \n",
      "\n",
      "[120115 rows x 26 columns]\n"
     ]
    }
   ],
   "source": [
    "# Display the filled DataFrame\n",
    "print(\"DataFrame after filling NaNs with the mean of each column:\")\n",
    "print(df_filled)"
   ]
  },
  {
   "cell_type": "code",
   "execution_count": 22,
   "metadata": {},
   "outputs": [],
   "source": [
    "# Save the filled DataFrame to a CSV file\n",
    "df_filled.to_csv('merged_dataset_clean.csv', index=False)"
   ]
  }
 ],
 "metadata": {
  "kernelspec": {
   "display_name": "hit140env",
   "language": "python",
   "name": "python3"
  },
  "language_info": {
   "codemirror_mode": {
    "name": "ipython",
    "version": 3
   },
   "file_extension": ".py",
   "mimetype": "text/x-python",
   "name": "python",
   "nbconvert_exporter": "python",
   "pygments_lexer": "ipython3",
   "version": "3.12.4"
  }
 },
 "nbformat": 4,
 "nbformat_minor": 2
}
